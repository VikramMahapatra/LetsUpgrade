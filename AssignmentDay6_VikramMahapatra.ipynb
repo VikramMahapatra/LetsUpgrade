{
 "cells": [
  {
   "cell_type": "code",
   "execution_count": 34,
   "metadata": {},
   "outputs": [
    {
     "name": "stdout",
     "output_type": "stream",
     "text": [
      "{1: 'a', 2: 'b', 3: 'c', 4: 'd', 5: 'e', 7: None, 8: None}\n"
     ]
    }
   ],
   "source": [
    "\n",
    "\n",
    "list1=[1,2,3,4,5,7,8]\n",
    "list2=['a','b','c','d','e']\n",
    "\n",
    "\n",
    "none_list=[]\n",
    "if len(list1) > len(list2):\n",
    "    diff=len(list1)-len(list2)\n",
    "    none_list=[None for item in range(0, diff)] \n",
    "    list2.extend(none_list)\n",
    "elif len(list2) > len(list1):\n",
    "    diff=len(list2)-len(list1)\n",
    "    none_list=[None for item in range(0, diff)]\n",
    "    list1.extend(none_list)\n",
    "\n",
    "dict1 = {list1[i]: list2[i] for i in range(len(list1))} \n",
    "\n",
    "print(dict1)\n",
    " "
   ]
  }
 ],
 "metadata": {
  "kernelspec": {
   "display_name": "Python 3",
   "language": "python",
   "name": "python3"
  },
  "language_info": {
   "codemirror_mode": {
    "name": "ipython",
    "version": 3
   },
   "file_extension": ".py",
   "mimetype": "text/x-python",
   "name": "python",
   "nbconvert_exporter": "python",
   "pygments_lexer": "ipython3",
   "version": "3.7.2"
  }
 },
 "nbformat": 4,
 "nbformat_minor": 2
}

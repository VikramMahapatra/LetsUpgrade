{
 "cells": [
  {
   "cell_type": "code",
   "execution_count": 14,
   "metadata": {},
   "outputs": [
    {
     "name": "stdout",
     "output_type": "stream",
     "text": [
      "[1, 1, 1, 2, 2, 3, 4, 4, 10, 56, 56, 0, 0, 0, 0, 0]\n",
      "[1, 8, 13, 34, 45, 99, 0, 0]\n"
     ]
    }
   ],
   "source": [
    "#Ques1 : Sort by assending order but all zero should be at right hand side\n",
    "def sorted_with_nonzero_at_right(lst):\n",
    "    zro_lst = []\n",
    "    non_zro_lst = []\n",
    "    for n in lst:\n",
    "        if n == 0:\n",
    "            zro_lst.append(n)\n",
    "        else:\n",
    "            non_zro_lst.append(n)\n",
    "\n",
    "    non_zro_lst.sort()\n",
    "    non_zro_lst.extend(zro_lst)\n",
    "    return non_zro_lst      \n",
    "\n",
    "lst = [0,1,2,10,4,1,0,56,2,0,1,3,0,56,0,4]\n",
    "print(sorted_with_nonzero_at_right(lst))\n",
    "\n",
    "lst = [13,99,0,34,8,1,0,45]\n",
    "print(sorted_with_nonzero_at_right(lst))"
   ]
  },
  {
   "cell_type": "code",
   "execution_count": 34,
   "metadata": {},
   "outputs": [
    {
     "name": "stdout",
     "output_type": "stream",
     "text": [
      "[5, 10, 15, 20, 25, 35, 40, 45, 60, 60, 70, 80]\n",
      "[5, 8, 10, 19, 20, 21, 35, 45, 60, 60, 70, 80]\n",
      "[5, 8, 10, 19, 20, 21, 35, 45, 60, 60, 70, 80]\n"
     ]
    }
   ],
   "source": [
    "# Ques2 : \n",
    "#     list1 = [10,20,40,60,70,80]\n",
    "#     list2= [5,15,25,35,45,60]\n",
    "# Merge these two sorted list to produce one sorted list, but use only loop either while or for for only one time\n",
    "\n",
    "def sort_merge(list1,list2):\n",
    "    sorted_lst = [0]\n",
    "    for a,b in zip(list1,list2):\n",
    "        if b < a: \n",
    "            if sorted_lst[-1] > b:\n",
    "                temp=sorted_lst[-1]\n",
    "                sorted_lst[-1] = b\n",
    "                sorted_lst.append(temp)\n",
    "                sorted_lst.append(a)\n",
    "            else:\n",
    "                sorted_lst.append(b)\n",
    "                sorted_lst.append(a)\n",
    "        elif a < b:\n",
    "             if sorted_lst[-1] > a:\n",
    "                temp=sorted_lst[-1]\n",
    "                sorted_lst[-1] = a\n",
    "                sorted_lst.append(temp)\n",
    "                sorted_lst.append(b)\n",
    "             else:\n",
    "                sorted_lst.append(a)\n",
    "                sorted_lst.append(b)    \n",
    "        else:\n",
    "            sorted_lst.append(a)\n",
    "            sorted_lst.append(b)\n",
    "    return sorted_lst[1:]\n",
    "\n",
    "\n",
    "list1 = [10,20,40,60,70,80]\n",
    "list2= [5,15,25,35,45,60]\n",
    "print(sort_merge(list1,list2))\n",
    "\n",
    "\n",
    "list1 = [10,20,21,60,70,80]\n",
    "list2=  [5,8,19,35,45,60]\n",
    "print(sort_merge(list1,list2))\n",
    "\n",
    "list1=  [5,8,19,35,45,60]\n",
    "list2 = [10,20,21,60,70,80]\n",
    "print(sort_merge(list1,list2))"
   ]
  }
 ],
 "metadata": {
  "kernelspec": {
   "display_name": "Python 3",
   "language": "python",
   "name": "python3"
  },
  "language_info": {
   "codemirror_mode": {
    "name": "ipython",
    "version": 3
   },
   "file_extension": ".py",
   "mimetype": "text/x-python",
   "name": "python",
   "nbconvert_exporter": "python",
   "pygments_lexer": "ipython3",
   "version": "3.7.2"
  }
 },
 "nbformat": 4,
 "nbformat_minor": 2
}

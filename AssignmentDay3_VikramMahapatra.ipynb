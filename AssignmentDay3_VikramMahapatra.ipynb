{
 "cells": [
  {
   "cell_type": "code",
   "execution_count": 7,
   "metadata": {},
   "outputs": [
    {
     "name": "stdout",
     "output_type": "stream",
     "text": [
      "Enter the value of n: 5\n",
      "Enter 1 number : 10\n",
      "Enter 2 number : 20\n",
      "Enter 3 number : 30\n",
      "Enter 4 number : 40\n",
      "Enter 5 number : 50\n",
      "Sum of  5 entered numbers is:  150\n"
     ]
    }
   ],
   "source": [
    "#1)Find the sum for n number\n",
    "\n",
    "num = int(input(\"Enter the value of n: \"))\n",
    "hold = num\n",
    "sum = 0\n",
    "i=1\n",
    "\n",
    "if num <= 0: \n",
    "    print(\"Enter a whole positive number!\") \n",
    "else: \n",
    "    while num > 0:\n",
    "        no=int(input(f'Enter {i} number : '))\n",
    "        sum = sum + no\n",
    "        num = num - 1;\n",
    "        i=i+1\n",
    "    \n",
    "print(\"Sum of \", hold, \"entered numbers is: \", sum)"
   ]
  },
  {
   "cell_type": "code",
   "execution_count": 17,
   "metadata": {},
   "outputs": [
    {
     "name": "stdout",
     "output_type": "stream",
     "text": [
      "Enter number to fine, if it prime or not : 3\n",
      "3 is a prime number\n"
     ]
    }
   ],
   "source": [
    "#2)Number is price or not\n",
    "\n",
    "num = int(input('Enter number to fine, if it prime or not : '))\n",
    "flag=False\n",
    "\n",
    "if num > 1:\n",
    "   # check for factors\n",
    "    for i in range(2,num):\n",
    "        if (num % i) == 0:\n",
    "            flag=True\n",
    "            print(num,\"is not a prime number\")\n",
    "            break\n",
    "    if flag==False:\n",
    "        print(num,\"is a prime number\")\n",
    "\n",
    "else:\n",
    "    print(num,\"is not a prime number\")"
   ]
  }
 ],
 "metadata": {
  "kernelspec": {
   "display_name": "Python 3",
   "language": "python",
   "name": "python3"
  },
  "language_info": {
   "codemirror_mode": {
    "name": "ipython",
    "version": 3
   },
   "file_extension": ".py",
   "mimetype": "text/x-python",
   "name": "python",
   "nbconvert_exporter": "python",
   "pygments_lexer": "ipython3",
   "version": "3.7.2"
  }
 },
 "nbformat": 4,
 "nbformat_minor": 2
}

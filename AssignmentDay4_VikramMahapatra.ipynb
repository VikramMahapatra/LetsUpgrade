{
 "cells": [
  {
   "cell_type": "code",
   "execution_count": 22,
   "metadata": {},
   "outputs": [
    {
     "name": "stdout",
     "output_type": "stream",
     "text": [
      "5\n",
      "7\n",
      "17\n",
      "25\n"
     ]
    }
   ],
   "source": [
    "str_txt=\"what wewe think, we are. we are python developer\"\n",
    "find_txt=\"we\"\n",
    "idx=0\n",
    "i=0\n",
    "j=0\n",
    "\n",
    "while True:\n",
    "    idx=str_txt.find(\"we\")\n",
    "    if idx != -1:\n",
    "        str_txt=str_txt[idx+len(find_txt):]\n",
    "        if j==0:\n",
    "            i =i+idx\n",
    "        else:\n",
    "            i =i+idx+len(find_txt)\n",
    "        print(i)\n",
    "    else:\n",
    "        break\n",
    "    j+=1"
   ]
  },
  {
   "cell_type": "code",
   "execution_count": 30,
   "metadata": {},
   "outputs": [
    {
     "name": "stdout",
     "output_type": "stream",
     "text": [
      "THIS IS TO CHECK UPPER/LOWER CASE\n",
      "Is the string in Upper case : True\n",
      "Is the string in Lower case : False\n",
      "\n",
      "\n",
      "THIS IS TO CHECK UPPER/LOWER CASE\n",
      "Is the string in Upper case : False\n",
      "Is the string in Lower case : True\n",
      "\n",
      "\n",
      "THIS IS TO CHECK UPPER/LOWER CASE\n",
      "Is the string in Upper case : False\n",
      "Is the string in Lower case : False\n"
     ]
    }
   ],
   "source": [
    "str1=\"THIS IS TO CHECK UPPER/LOWER CASE\"\n",
    "\n",
    "print(str1)\n",
    "print(f\"Is the string in Upper case : {str1.isupper()}\")\n",
    "print(f\"Is the string in Lower case : {str1.islower()}\")\n",
    "\n",
    "print(\"\\n\")\n",
    "str2=\"this is to check  \"\n",
    "print(str1)\n",
    "print(f\"Is the string in Upper case : {str2.isupper()}\")\n",
    "print(f\"Is the string in Lower case : {str2.islower()}\")\n",
    "\n",
    "\n",
    "print(\"\\n\")\n",
    "str3=\"This is to Check  \"\n",
    "print(str1)\n",
    "print(f\"Is the string in Upper case : {str3.isupper()}\")\n",
    "print(f\"Is the string in Lower case : {str3.islower()}\")\n"
   ]
  }
 ],
 "metadata": {
  "kernelspec": {
   "display_name": "Python 3",
   "language": "python",
   "name": "python3"
  },
  "language_info": {
   "codemirror_mode": {
    "name": "ipython",
    "version": 3
   },
   "file_extension": ".py",
   "mimetype": "text/x-python",
   "name": "python",
   "nbconvert_exporter": "python",
   "pygments_lexer": "ipython3",
   "version": "3.7.2"
  }
 },
 "nbformat": 4,
 "nbformat_minor": 2
}

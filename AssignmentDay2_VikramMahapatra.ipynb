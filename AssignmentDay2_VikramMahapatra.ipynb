{
 "cells": [
  {
   "cell_type": "code",
   "execution_count": 9,
   "metadata": {},
   "outputs": [
    {
     "name": "stdout",
     "output_type": "stream",
     "text": [
      "This is my programming world, I am \"free\"  to write the way I want\n",
      "this is to certify, whatever am writing 'are' all shit\n",
      "\n",
      "This is doc string \n",
      "let me see how it work\n"
     ]
    }
   ],
   "source": [
    "#trying backslash\n",
    "print(\"This is my programming world, I am \\\"free\\\"  to write the way I want\")\n",
    "print('this is to certify, whatever am writing \\'are\\' all shit')\n",
    "print(\"\"\"\n",
    "This is doc string \n",
    "let me see how it work\"\"\")\n"
   ]
  },
  {
   "cell_type": "code",
   "execution_count": 21,
   "metadata": {},
   "outputs": [
    {
     "name": "stdout",
     "output_type": "stream",
     "text": [
      "Name: Vikram Mahapatra \n",
      "His Score is 4 And his percentile is 97.777 \n",
      "\n",
      "Name: Vikram Mahapatra \n",
      "His Score is 4 and his percentile is 97.777 \n",
      "\n",
      "Name Vikram Mahapatra \n",
      "His Score is 4 and his percentile is 97.777000\n",
      "Name Vikram Mahapatra \n",
      "His Score is          4 and his percentile is 97.78\n"
     ]
    }
   ],
   "source": [
    "name=\"Vikram Mahapatra\"\n",
    "score=4\n",
    "percentile=97.777\n",
    "\n",
    "print(\"Name:\",name,\"\\nHis Score is\",score,\"And his percentile is\",percentile,\"\\n\")\n",
    "print(f\"Name: {name} \\nHis Score is {score} and his percentile is {percentile} \\n\")\n",
    "print(\"Name %s \\nHis Score is %d and his percentile is %f\"%(name,score,percentile))\n",
    "print(\"Name %s \\nHis Score is %10d and his percentile is %.2f\"%(name,score,percentile))"
   ]
  },
  {
   "cell_type": "code",
   "execution_count": 30,
   "metadata": {},
   "outputs": [
    {
     "name": "stdout",
     "output_type": "stream",
     "text": [
      "Mem reference of X is 1710741824\n",
      "Mem reference of X is 1710741824\n",
      "\n",
      "The location of Y after deletion of X is 1710741824\n"
     ]
    }
   ],
   "source": [
    "#Now checkign the memory reference of variable with id function\n",
    "x=10\n",
    "y=10\n",
    "print(f\"Mem reference of X is {id(x)}\")\n",
    "print(f\"Mem reference of X is {id(y)}\")\n",
    "\n",
    "#Now if I delete X, it will just delete the reference of X variable to memory location, so the Y should still display y value\n",
    "del(x)\n",
    "print(f\"\\nThe location of Y after deletion of X is {id(y)}\")"
   ]
  },
  {
   "cell_type": "code",
   "execution_count": 35,
   "metadata": {},
   "outputs": [
    {
     "ename": "SyntaxError",
     "evalue": "invalid syntax (<ipython-input-35-4fe9bbe0616f>, line 2)",
     "output_type": "error",
     "traceback": [
      "\u001b[1;36m  File \u001b[1;32m\"<ipython-input-35-4fe9bbe0616f>\"\u001b[1;36m, line \u001b[1;32m2\u001b[0m\n\u001b[1;33m    if=10\u001b[0m\n\u001b[1;37m      ^\u001b[0m\n\u001b[1;31mSyntaxError\u001b[0m\u001b[1;31m:\u001b[0m invalid syntax\n"
     ]
    }
   ],
   "source": [
    "#Using resevere Keyword for variable declaration\n",
    "if=10\n",
    "print(f\"if value is {if}\")\n"
   ]
  },
  {
   "cell_type": "code",
   "execution_count": 36,
   "metadata": {},
   "outputs": [
    {
     "name": "stdout",
     "output_type": "stream",
     "text": [
      "x and y is False\n",
      "x or y is True\n",
      "not x is False\n"
     ]
    }
   ],
   "source": [
    "x = True\n",
    "y = False\n",
    "\n",
    "print('x and y is',x and y)\n",
    "\n",
    "print('x or y is',x or y)\n",
    "\n",
    "print('not x is',not x)"
   ]
  },
  {
   "cell_type": "code",
   "execution_count": 37,
   "metadata": {},
   "outputs": [
    {
     "name": "stdout",
     "output_type": "stream",
     "text": [
      "True\n",
      "False\n"
     ]
    }
   ],
   "source": [
    "#In and NOT In operator \n",
    "x = 'Python is King'\n",
    "\n",
    "# Output: True\n",
    "print('h' in x)\n",
    "\n",
    "# Output: True\n",
    "print('is' not in x)"
   ]
  },
  {
   "cell_type": "code",
   "execution_count": 45,
   "metadata": {},
   "outputs": [
    {
     "name": "stdout",
     "output_type": "stream",
     "text": [
      "True\n",
      "False\n",
      "True\n",
      "False\n"
     ]
    }
   ],
   "source": [
    "x=7\n",
    "print(not(x < 5 and x < 10))\n",
    "\n",
    "x=4\n",
    "print(not(x < 5 and x < 10))\n",
    "\n",
    "print(x < 5  < 10 )\n",
    "print(x < 5  < 10 <3)"
   ]
  }
 ],
 "metadata": {
  "kernelspec": {
   "display_name": "Python 3",
   "language": "python",
   "name": "python3"
  },
  "language_info": {
   "codemirror_mode": {
    "name": "ipython",
    "version": 3
   },
   "file_extension": ".py",
   "mimetype": "text/x-python",
   "name": "python",
   "nbconvert_exporter": "python",
   "pygments_lexer": "ipython3",
   "version": "3.7.2"
  }
 },
 "nbformat": 4,
 "nbformat_minor": 2
}
